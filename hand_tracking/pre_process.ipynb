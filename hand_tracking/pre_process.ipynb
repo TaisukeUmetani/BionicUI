{
 "cells": [
  {
   "cell_type": "code",
   "execution_count": 26,
   "metadata": {
    "collapsed": true
   },
   "outputs": [],
   "source": [
    "import cv2\n",
    "import mediapipe as mp\n",
    "import glob\n",
    "import pandas as pd\n",
    "mp_drawing = mp.solutions.drawing_utils\n",
    "mp_hands = mp.solutions.hands\n",
    "\n",
    "file_list = glob.glob(\"./datasets/paper/*\")\n",
    "landmarks_list = []\n",
    "with mp_hands.Hands(\n",
    "    static_image_mode=True,\n",
    "    max_num_hands=2,\n",
    "    min_detection_confidence=0.5) as hands:\n",
    "  for file in file_list:\n",
    "    # Read an image, flip it around y-axis for correct handedness output (see\n",
    "    # above).\n",
    "    image = cv2.flip(cv2.imread(file), 1)\n",
    "    # Convert the BGR image to RGB before processing.\n",
    "    results = hands.process(cv2.cvtColor(image, cv2.COLOR_BGR2RGB))\n",
    "    if results.multi_hand_landmarks:\n",
    "        landmarks_list.append(results.multi_hand_landmarks[0])"
   ]
  },
  {
   "cell_type": "code",
   "execution_count": 27,
   "outputs": [
    {
     "name": "stdout",
     "output_type": "stream",
     "text": [
      "CPU times: user 11.2 ms, sys: 3.99 ms, total: 15.2 ms\n",
      "Wall time: 15.7 ms\n"
     ]
    },
    {
     "data": {
      "text/plain": "[0.0,\n 0.0,\n -0.13076923076923078,\n -0.1346153846153846,\n -0.13076923076923078,\n -0.3423076923076923,\n -0.11538461538461539,\n -0.49230769230769234,\n -0.13076923076923078,\n -0.6384615384615384,\n -0.007692307692307693,\n -0.47692307692307695,\n 0.03076923076923077,\n -0.7,\n 0.03461538461538462,\n -0.8576923076923076,\n 0.019230769230769232,\n -1.0,\n 0.057692307692307696,\n -0.4269230769230769,\n 0.12692307692307692,\n -0.65,\n 0.14615384615384616,\n -0.823076923076923,\n 0.15,\n -0.9846153846153847,\n 0.11538461538461539,\n -0.3269230769230769,\n 0.18461538461538463,\n -0.5307692307692308,\n 0.2076923076923077,\n -0.6884615384615385,\n 0.21923076923076923,\n -0.8461538461538461,\n 0.16923076923076924,\n -0.18076923076923077,\n 0.23461538461538461,\n -0.31153846153846154,\n 0.2653846153846154,\n -0.4115384615384615,\n 0.2923076923076923,\n -0.5230769230769231]"
     },
     "execution_count": 27,
     "metadata": {},
     "output_type": "execute_result"
    }
   ],
   "source": [
    "%%time\n",
    "image = cv2.flip(cv2.imread(file), 1)\n",
    "landmark = landmarks_list[-1]\n",
    "from scripts import pre_process\n",
    "pre_process.landmarks(image, landmark)"
   ],
   "metadata": {
    "collapsed": false,
    "pycharm": {
     "name": "#%%\n"
    }
   }
  },
  {
   "cell_type": "code",
   "execution_count": 28,
   "outputs": [],
   "source": [
    "file_list = glob.glob(\"./datasets/rock/*\")\n",
    "landmarks_list = []\n",
    "\n",
    "with mp_hands.Hands(\n",
    "    static_image_mode=True,\n",
    "    max_num_hands=2,\n",
    "    min_detection_confidence=0.5) as hands:\n",
    "  for file in file_list:\n",
    "    # Read an image, flip it around y-axis for correct handedness output (see\n",
    "    # above).\n",
    "    image = cv2.flip(cv2.imread(file), 1)\n",
    "    # Convert the BGR image to RGB before processing.\n",
    "    results = hands.process(cv2.cvtColor(image, cv2.COLOR_BGR2RGB))\n",
    "    if results.multi_hand_landmarks:\n",
    "        landmarks_list.append(results.multi_hand_landmarks[0])\n",
    "\n",
    "keypoint_list = []\n",
    "for i in range(len(landmarks_list)):\n",
    "    file = file_list[i]\n",
    "    image = cv2.flip(cv2.imread(file), 1)\n",
    "    landmark = landmarks_list[i]\n",
    "    from scripts import pre_process\n",
    "    pre_processed_landmark_list = pre_process.landmarks(image, landmark)\n",
    "    keypoint_list.append(pre_processed_landmark_list)"
   ],
   "metadata": {
    "collapsed": false,
    "pycharm": {
     "name": "#%%\n"
    }
   }
  },
  {
   "cell_type": "code",
   "execution_count": 45,
   "outputs": [],
   "source": [
    "df = pd.DataFrame()\n",
    "for i in range(42):\n",
    "    df[i+1] = 0\n",
    "\n",
    "for i in range(len(keypoint_list)):\n",
    "    df.loc[i] = keypoint_list[i]\n",
    "\n",
    "df[0] = 0"
   ],
   "metadata": {
    "collapsed": false,
    "pycharm": {
     "name": "#%%\n"
    }
   }
  },
  {
   "cell_type": "code",
   "execution_count": 46,
   "outputs": [],
   "source": [
    "file_list = glob.glob(\"./datasets/paper/*\")\n",
    "landmarks_list = []\n",
    "\n",
    "with mp_hands.Hands(\n",
    "    static_image_mode=True,\n",
    "    max_num_hands=2,\n",
    "    min_detection_confidence=0.5) as hands:\n",
    "  for file in file_list:\n",
    "    # Read an image, flip it around y-axis for correct handedness output (see\n",
    "    # above).\n",
    "    image = cv2.flip(cv2.imread(file), 1)\n",
    "    # Convert the BGR image to RGB before processing.\n",
    "    results = hands.process(cv2.cvtColor(image, cv2.COLOR_BGR2RGB))\n",
    "    if results.multi_hand_landmarks:\n",
    "        landmarks_list.append(results.multi_hand_landmarks[0])\n",
    "\n",
    "keypoint_list = []\n",
    "for i in range(len(landmarks_list)):\n",
    "    file = file_list[i]\n",
    "    image = cv2.flip(cv2.imread(file), 1)\n",
    "    landmark = landmarks_list[i]\n",
    "    from scripts import pre_process\n",
    "    pre_processed_landmark_list = pre_process.landmarks(image, landmark)\n",
    "    keypoint_list.append(pre_processed_landmark_list)"
   ],
   "metadata": {
    "collapsed": false,
    "pycharm": {
     "name": "#%%\n"
    }
   }
  },
  {
   "cell_type": "code",
   "execution_count": 50,
   "outputs": [],
   "source": [
    "df2 = pd.DataFrame()\n",
    "for i in range(42):\n",
    "    df2[i+1] = 0\n",
    "\n",
    "for i in range(len(keypoint_list)):\n",
    "    df2.loc[i] = keypoint_list[i]\n",
    "\n",
    "df2[0] = 0"
   ],
   "metadata": {
    "collapsed": false,
    "pycharm": {
     "name": "#%%\n"
    }
   }
  },
  {
   "cell_type": "code",
   "execution_count": 51,
   "outputs": [],
   "source": [
    "df = pd.concat([df, df2], axis=0)"
   ],
   "metadata": {
    "collapsed": false,
    "pycharm": {
     "name": "#%%\n"
    }
   }
  },
  {
   "cell_type": "code",
   "execution_count": 53,
   "outputs": [
    {
     "data": {
      "text/plain": "    0    1    2         3         4         5         6         7         8   \\\n20   0  0.0  0.0 -0.320197 -0.019704 -0.472906 -0.206897 -0.517241 -0.423645   \n21   0  0.0  0.0  0.078571 -0.153571  0.103571 -0.317857  0.089286 -0.428571   \n22   0  0.0  0.0  0.244275 -0.221374  0.511450 -0.519084  0.694656 -0.786260   \n23   0  0.0  0.0 -0.108374 -0.152709 -0.064039 -0.354680  0.049261 -0.532020   \n24   0  0.0  0.0 -0.130769 -0.134615 -0.130769 -0.342308 -0.115385 -0.492308   \n\n          9   ...        33        34        35        36        37        38  \\\n20 -0.576355  ...  0.862069 -0.852217  0.379310 -0.359606  0.581281 -0.527094   \n21  0.046429  ... -0.039286 -0.896429 -0.060714 -0.210714 -0.189286 -0.400000   \n22  0.847328  ...  0.106870 -0.702290 -0.343511 -0.129771 -0.419847 -0.328244   \n23  0.152709  ...  1.000000 -0.408867  0.517241 -0.290640  0.694581 -0.359606   \n24 -0.130769  ...  0.219231 -0.846154  0.169231 -0.180769  0.234615 -0.311538   \n\n          39        40        41        42  \n20  0.738916 -0.600985  0.916256 -0.665025  \n21 -0.296429 -0.517857 -0.389286 -0.621429  \n22 -0.488550 -0.473282 -0.480916 -0.603053  \n23  0.822660 -0.354680  0.965517 -0.354680  \n24  0.265385 -0.411538  0.292308 -0.523077  \n\n[5 rows x 43 columns]",
      "text/html": "<div>\n<style scoped>\n    .dataframe tbody tr th:only-of-type {\n        vertical-align: middle;\n    }\n\n    .dataframe tbody tr th {\n        vertical-align: top;\n    }\n\n    .dataframe thead th {\n        text-align: right;\n    }\n</style>\n<table border=\"1\" class=\"dataframe\">\n  <thead>\n    <tr style=\"text-align: right;\">\n      <th></th>\n      <th>0</th>\n      <th>1</th>\n      <th>2</th>\n      <th>3</th>\n      <th>4</th>\n      <th>5</th>\n      <th>6</th>\n      <th>7</th>\n      <th>8</th>\n      <th>9</th>\n      <th>...</th>\n      <th>33</th>\n      <th>34</th>\n      <th>35</th>\n      <th>36</th>\n      <th>37</th>\n      <th>38</th>\n      <th>39</th>\n      <th>40</th>\n      <th>41</th>\n      <th>42</th>\n    </tr>\n  </thead>\n  <tbody>\n    <tr>\n      <th>20</th>\n      <td>0</td>\n      <td>0.0</td>\n      <td>0.0</td>\n      <td>-0.320197</td>\n      <td>-0.019704</td>\n      <td>-0.472906</td>\n      <td>-0.206897</td>\n      <td>-0.517241</td>\n      <td>-0.423645</td>\n      <td>-0.576355</td>\n      <td>...</td>\n      <td>0.862069</td>\n      <td>-0.852217</td>\n      <td>0.379310</td>\n      <td>-0.359606</td>\n      <td>0.581281</td>\n      <td>-0.527094</td>\n      <td>0.738916</td>\n      <td>-0.600985</td>\n      <td>0.916256</td>\n      <td>-0.665025</td>\n    </tr>\n    <tr>\n      <th>21</th>\n      <td>0</td>\n      <td>0.0</td>\n      <td>0.0</td>\n      <td>0.078571</td>\n      <td>-0.153571</td>\n      <td>0.103571</td>\n      <td>-0.317857</td>\n      <td>0.089286</td>\n      <td>-0.428571</td>\n      <td>0.046429</td>\n      <td>...</td>\n      <td>-0.039286</td>\n      <td>-0.896429</td>\n      <td>-0.060714</td>\n      <td>-0.210714</td>\n      <td>-0.189286</td>\n      <td>-0.400000</td>\n      <td>-0.296429</td>\n      <td>-0.517857</td>\n      <td>-0.389286</td>\n      <td>-0.621429</td>\n    </tr>\n    <tr>\n      <th>22</th>\n      <td>0</td>\n      <td>0.0</td>\n      <td>0.0</td>\n      <td>0.244275</td>\n      <td>-0.221374</td>\n      <td>0.511450</td>\n      <td>-0.519084</td>\n      <td>0.694656</td>\n      <td>-0.786260</td>\n      <td>0.847328</td>\n      <td>...</td>\n      <td>0.106870</td>\n      <td>-0.702290</td>\n      <td>-0.343511</td>\n      <td>-0.129771</td>\n      <td>-0.419847</td>\n      <td>-0.328244</td>\n      <td>-0.488550</td>\n      <td>-0.473282</td>\n      <td>-0.480916</td>\n      <td>-0.603053</td>\n    </tr>\n    <tr>\n      <th>23</th>\n      <td>0</td>\n      <td>0.0</td>\n      <td>0.0</td>\n      <td>-0.108374</td>\n      <td>-0.152709</td>\n      <td>-0.064039</td>\n      <td>-0.354680</td>\n      <td>0.049261</td>\n      <td>-0.532020</td>\n      <td>0.152709</td>\n      <td>...</td>\n      <td>1.000000</td>\n      <td>-0.408867</td>\n      <td>0.517241</td>\n      <td>-0.290640</td>\n      <td>0.694581</td>\n      <td>-0.359606</td>\n      <td>0.822660</td>\n      <td>-0.354680</td>\n      <td>0.965517</td>\n      <td>-0.354680</td>\n    </tr>\n    <tr>\n      <th>24</th>\n      <td>0</td>\n      <td>0.0</td>\n      <td>0.0</td>\n      <td>-0.130769</td>\n      <td>-0.134615</td>\n      <td>-0.130769</td>\n      <td>-0.342308</td>\n      <td>-0.115385</td>\n      <td>-0.492308</td>\n      <td>-0.130769</td>\n      <td>...</td>\n      <td>0.219231</td>\n      <td>-0.846154</td>\n      <td>0.169231</td>\n      <td>-0.180769</td>\n      <td>0.234615</td>\n      <td>-0.311538</td>\n      <td>0.265385</td>\n      <td>-0.411538</td>\n      <td>0.292308</td>\n      <td>-0.523077</td>\n    </tr>\n  </tbody>\n</table>\n<p>5 rows × 43 columns</p>\n</div>"
     },
     "execution_count": 53,
     "metadata": {},
     "output_type": "execute_result"
    }
   ],
   "source": [
    "df.tail()"
   ],
   "metadata": {
    "collapsed": false,
    "pycharm": {
     "name": "#%%\n"
    }
   }
  },
  {
   "cell_type": "code",
   "execution_count": 54,
   "outputs": [],
   "source": [
    "df.to_csv('result.csv', index=False)"
   ],
   "metadata": {
    "collapsed": false,
    "pycharm": {
     "name": "#%%\n"
    }
   }
  },
  {
   "cell_type": "code",
   "execution_count": null,
   "outputs": [],
   "source": [],
   "metadata": {
    "collapsed": false,
    "pycharm": {
     "name": "#%%\n"
    }
   }
  }
 ],
 "metadata": {
  "kernelspec": {
   "display_name": "Python 3",
   "language": "python",
   "name": "python3"
  },
  "language_info": {
   "codemirror_mode": {
    "name": "ipython",
    "version": 2
   },
   "file_extension": ".py",
   "mimetype": "text/x-python",
   "name": "python",
   "nbconvert_exporter": "python",
   "pygments_lexer": "ipython2",
   "version": "2.7.6"
  }
 },
 "nbformat": 4,
 "nbformat_minor": 0
}